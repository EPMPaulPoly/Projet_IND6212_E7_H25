{
 "cells": [
  {
   "cell_type": "markdown",
   "metadata": {},
   "source": [
    "# Travail en Équipe: Influence de la proximité des transports en commun sur la valeur foncière\n",
    "Ce travail visera à identifier s'il y a une influence de la proximité du transport en commun sur la valeur foncière des logements\n",
    "\n",
    "Plusieurs hypothèses sont mises de l'avant:\n",
    "1. Les logements à proximité du transport en commun lourd ont une plus grande valeur foncière que les autres logements\n",
    "2. Les logements plus proches du centre ville ont une plus grande valeur foncière que les logements plus excentrés\n",
    "3. Les logements dans un milieu avec une forte mixité des usages ont un plus grande valeur foncière que les logements avec un faible mixité des usages\n",
    "\n",
    "Sources de données:\n",
    "\n",
    " - Rôle foncier du québec\n",
    " - Géographie du recensement\n",
    " - Carte des utilisation du sol"
   ]
  },
  {
   "cell_type": "markdown",
   "metadata": {},
   "source": [
    "## Imports\n",
    "\n",
    "Import des librairies pertinentes"
   ]
  },
  {
   "cell_type": "code",
   "execution_count": 1,
   "metadata": {},
   "outputs": [],
   "source": [
    "import pandas as pd\n",
    "import geopandas as gpd\n",
    "import sklearn as skl"
   ]
  },
  {
   "cell_type": "markdown",
   "metadata": {},
   "source": [
    "## Fichiers Pertinents\n",
    "On définit les fichiers qui sont pertinents à importer"
   ]
  },
  {
   "cell_type": "code",
   "execution_count": null,
   "metadata": {},
   "outputs": [],
   "source": [
    "chemin_role_foncier = \"./donnees/role_foncier_RMR_Montreal.geojson\"\n",
    "chemin_divisions_recensement = \"./donnees/aires_de_diffusion_montreal.geojson\"\n",
    "chemin_csv_donnees_recensement = \"./donnees/recensement_population_densite.csv\"\n",
    "chemin_carte_utilisation_sol = \"\" # pas encore utilisé"
   ]
  },
  {
   "cell_type": "markdown",
   "metadata": {},
   "source": [
    "## Ouverture des fichiers Pertinents\n",
    "On utilise pandas et GeoPandas pour ouvrir les différents fichiers"
   ]
  },
  {
   "cell_type": "code",
   "execution_count": null,
   "metadata": {},
   "outputs": [],
   "source": [
    "donnees_role = gpd.read_file(chemin_role_foncier)\n"
   ]
  },
  {
   "cell_type": "code",
   "execution_count": null,
   "metadata": {},
   "outputs": [],
   "source": [
    "carte_recensement = gpd.read_file(chemin_divisions_recensement)"
   ]
  },
  {
   "cell_type": "code",
   "execution_count": null,
   "metadata": {},
   "outputs": [
    {
     "ename": "",
     "evalue": "",
     "output_type": "error",
     "traceback": [
      "\u001b[1;31mCannot execute code, session has been disposed. Please try restarting the Kernel."
     ]
    },
    {
     "ename": "",
     "evalue": "",
     "output_type": "error",
     "traceback": [
      "\u001b[1;31mCannot execute code, session has been disposed. Please try restarting the Kernel. \n",
      "\u001b[1;31mView Jupyter <a href='command:jupyter.viewOutput'>log</a> for further details."
     ]
    }
   ],
   "source": [
    "population_recensement = pd.read_csv(chemin_csv_donnees_recensement)\n"
   ]
  }
 ],
 "metadata": {
  "kernelspec": {
   "display_name": "masters_data_eng",
   "language": "python",
   "name": "python3"
  },
  "language_info": {
   "codemirror_mode": {
    "name": "ipython",
    "version": 3
   },
   "file_extension": ".py",
   "mimetype": "text/x-python",
   "name": "python",
   "nbconvert_exporter": "python",
   "pygments_lexer": "ipython3",
   "version": "3.12.3"
  }
 },
 "nbformat": 4,
 "nbformat_minor": 2
}
